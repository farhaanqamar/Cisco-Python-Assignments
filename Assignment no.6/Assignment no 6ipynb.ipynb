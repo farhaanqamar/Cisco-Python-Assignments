{
 "cells": [
  {
   "cell_type": "code",
   "execution_count": 2,
   "metadata": {
    "scrolled": true
   },
   "outputs": [],
   "source": [
    "## QUESTION NO:01.\n",
    "### Define Object Oriented Programming Language ?"
   ]
  },
  {
   "cell_type": "code",
   "execution_count": 3,
   "metadata": {},
   "outputs": [
    {
     "ename": "SyntaxError",
     "evalue": "invalid syntax (<ipython-input-3-ba844b5bfd76>, line 1)",
     "output_type": "error",
     "traceback": [
      "\u001b[1;36m  File \u001b[1;32m\"<ipython-input-3-ba844b5bfd76>\"\u001b[1;36m, line \u001b[1;32m1\u001b[0m\n\u001b[1;33m    ANSWER: Object-oriented programming (OOP) refers to a type of computer programming (software design) in which programmers define the data type of a data structure, and also the types of operations (functions) that can be applied to the data structure.\u001b[0m\n\u001b[1;37m                                      ^\u001b[0m\n\u001b[1;31mSyntaxError\u001b[0m\u001b[1;31m:\u001b[0m invalid syntax\n"
     ]
    }
   ],
   "source": [
    "ANSWER: Object-oriented programming (OOP) refers to a type of computer programming (software design) in which programmers define the data type of a data structure, and also the types of operations (functions) that can be applied to the data structure."
   ]
  },
  {
   "cell_type": "code",
   "execution_count": 4,
   "metadata": {
    "collapsed": true
   },
   "outputs": [],
   "source": [
    "## Question 3.\n",
    "### Differentiate between function and method ?"
   ]
  },
  {
   "cell_type": "code",
   "execution_count": 5,
   "metadata": {},
   "outputs": [
    {
     "ename": "SyntaxError",
     "evalue": "invalid syntax (<ipython-input-5-222cc231b16f>, line 1)",
     "output_type": "error",
     "traceback": [
      "\u001b[1;36m  File \u001b[1;32m\"<ipython-input-5-222cc231b16f>\"\u001b[1;36m, line \u001b[1;32m1\u001b[0m\n\u001b[1;33m    A function is a piece of code that is called by name. It can be passed data to operate on (i.e. the parameters) and can optionally return data (the return value). All data that is passed to a function is explicitly passed.\u001b[0m\n\u001b[1;37m             ^\u001b[0m\n\u001b[1;31mSyntaxError\u001b[0m\u001b[1;31m:\u001b[0m invalid syntax\n"
     ]
    }
   ],
   "source": [
    "A function is a piece of code that is called by name. It can be passed data to operate on (i.e. the parameters) and can optionally return data (the return value). All data that is passed to a function is explicitly passed.\n",
    "\n",
    "A method is a piece of code that is called by a name that is associated with an object. In most respects it is identical to a function except for two key differences:"
   ]
  },
  {
   "cell_type": "code",
   "execution_count": 6,
   "metadata": {
    "collapsed": true
   },
   "outputs": [],
   "source": [
    "## Question 2.\n",
    "### List down the Benefits of OOP ?"
   ]
  },
  {
   "cell_type": "code",
   "execution_count": 7,
   "metadata": {},
   "outputs": [
    {
     "ename": "SyntaxError",
     "evalue": "invalid syntax (<ipython-input-7-5e93689186b3>, line 1)",
     "output_type": "error",
     "traceback": [
      "\u001b[1;36m  File \u001b[1;32m\"<ipython-input-7-5e93689186b3>\"\u001b[1;36m, line \u001b[1;32m1\u001b[0m\n\u001b[1;33m    Reuse of code through inheritance.\u001b[0m\n\u001b[1;37m           ^\u001b[0m\n\u001b[1;31mSyntaxError\u001b[0m\u001b[1;31m:\u001b[0m invalid syntax\n"
     ]
    }
   ],
   "source": [
    "Reuse of code through inheritance.\n",
    "Flexibility through polymorphism.\n",
    "Effective problem solving."
   ]
  },
  {
   "cell_type": "code",
   "execution_count": 8,
   "metadata": {
    "collapsed": true
   },
   "outputs": [],
   "source": [
    "## Question 4.\n",
    "### Define the following Terms :\n",
    "### 1. Class\n",
    "### 2. Object\n",
    "### 3. Attribute\n",
    "### 4. Behavior"
   ]
  },
  {
   "cell_type": "code",
   "execution_count": 9,
   "metadata": {},
   "outputs": [
    {
     "ename": "SyntaxError",
     "evalue": "invalid syntax (<ipython-input-9-ad699bf09610>, line 1)",
     "output_type": "error",
     "traceback": [
      "\u001b[1;36m  File \u001b[1;32m\"<ipython-input-9-ad699bf09610>\"\u001b[1;36m, line \u001b[1;32m1\u001b[0m\n\u001b[1;33m    ANSWER:\u001b[0m\n\u001b[1;37m           ^\u001b[0m\n\u001b[1;31mSyntaxError\u001b[0m\u001b[1;31m:\u001b[0m invalid syntax\n"
     ]
    }
   ],
   "source": [
    "ANSWER:\n",
    "01. Class:Class is the blueprint of the Object. All the properties and behaviours of Object are defined inside a class as attributes and methods.\n",
    "\n",
    "02. Object:Object is the real world model of class or running form of class. Object contains all the properties and behaviors defined inside class. Object is used to access the data of class.\n",
    "    \n",
    "03. Attribute:Attributes are the variables that are defined inside a class.\n",
    "    \n",
    "04. Behavior:Behaviors are the methods corresponding to the behavior of real world objects"
   ]
  },
  {
   "cell_type": "code",
   "execution_count": 10,
   "metadata": {
    "collapsed": true
   },
   "outputs": [],
   "source": [
    "## Question 5.\n",
    "### Write a code in Python in which create a class named Car which have 5 Attributes such like (model, color and name etc.) and 3 methods. And create 5 Object instance from that class."
   ]
  },
  {
   "cell_type": "code",
   "execution_count": 12,
   "metadata": {},
   "outputs": [
    {
     "name": "stdout",
     "output_type": "stream",
     "text": [
      "Car Properties\n",
      "Name         : Corolla\n",
      "Model        : 2008\n",
      "Color        : Black\n",
      "Company      : Toyota\n",
      "Transmission : Auto \n",
      "\n",
      "Car Properties\n",
      "Name         : BMW\n",
      "Model        : 20017\n",
      "Color        : Brown\n",
      "Company      : BMW\n",
      "Transmission : Auto \n",
      "\n",
      "Car Properties\n",
      "Name         : Corolla\n",
      "Model        : 2016\n",
      "Color        : Black\n",
      "Company      : Toyota\n",
      "Transmission : Auto \n",
      "\n",
      "Car Properties\n",
      "Name         : Mercedes\n",
      "Model        : 2005\n",
      "Color        : Grey\n",
      "Company      : Mercedes\n",
      "Transmission : Auto \n",
      "\n",
      "Car Properties\n",
      "Name         : Luxus\n",
      "Model        : 2004\n",
      "Color        : Grey\n",
      "Company      : Luxus\n",
      "Transmission : Manual \n",
      "\n",
      "Before Changing Name :  Corolla\n",
      "After Changing Name:  Pajero\n"
     ]
    }
   ],
   "source": [
    "class Car():\n",
    "    ## Init method\n",
    "    \n",
    "    def __init__(self, name, model, color, company, transmission):\n",
    "        self.name = name\n",
    "        self.model = model\n",
    "        self.color = color\n",
    "        self.company = company\n",
    "        self.transmission = transmission\n",
    "        \n",
    "    ## show_properties method\n",
    "    \n",
    "    def show_properties(self):\n",
    "        print(\"Car Properties\")\n",
    "        print(f\"Name         : {self.name}\")\n",
    "        print(f\"Model        : {self.model}\")\n",
    "        print(f\"Color        : {self.color}\")\n",
    "        print(f\"Company      : {self.company}\")\n",
    "        print(f\"Transmission : {self.transmission} \\n\")\n",
    "        \n",
    "    \n",
    "    ## update_name method\n",
    "    \n",
    "    def update_name(self, newname):\n",
    "        self.name = newname\n",
    "    \n",
    "    ## update_color method\n",
    "    \n",
    "    def update_color(self, newcolor):\n",
    "        self.color = newcolor\n",
    "\n",
    "\n",
    "        \n",
    "## Objects\n",
    "\n",
    "car1 = Car(\"Corolla\", 2008, \"Black\", \"Toyota\", \"Auto\")\n",
    "car2 = Car(\"BMW\", 20017, \"Brown\", \"BMW\", \"Auto\")\n",
    "car3 = Car(\"Corolla\", 2016, \"Black\", \"Toyota\", \"Auto\")\n",
    "car4 = Car(\"Mercedes\", 2005, \"Grey\", \"Mercedes\", \"Auto\")\n",
    "car5 = Car(\"Luxus\", 2004, \"Grey\", \"Luxus\", \"Manual\")\n",
    "\n",
    "## Calling methods\n",
    "\n",
    "car1.show_properties()\n",
    "car2.show_properties()\n",
    "car3.show_properties()\n",
    "car4.show_properties()\n",
    "car5.show_properties()\n",
    "        \n",
    "    \n",
    "## Changing name\n",
    " ## Before Changing Name\n",
    "    \n",
    "print(\"Before Changing Name : \",car1.name)\n",
    "car1.update_name(\"Pajero\")\n",
    "print(\"After Changing Name: \",car1.name)    "
   ]
  },
  {
   "cell_type": "code",
   "execution_count": null,
   "metadata": {
    "collapsed": true
   },
   "outputs": [],
   "source": []
  }
 ],
 "metadata": {
  "kernelspec": {
   "display_name": "Python 3",
   "language": "python",
   "name": "python3"
  },
  "language_info": {
   "codemirror_mode": {
    "name": "ipython",
    "version": 3
   },
   "file_extension": ".py",
   "mimetype": "text/x-python",
   "name": "python",
   "nbconvert_exporter": "python",
   "pygments_lexer": "ipython3",
   "version": "3.6.3"
  }
 },
 "nbformat": 4,
 "nbformat_minor": 2
}
