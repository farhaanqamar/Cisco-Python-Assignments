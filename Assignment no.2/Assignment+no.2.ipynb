{
 "cells": [
  {
   "cell_type": "code",
   "execution_count": 2,
   "metadata": {},
   "outputs": [
    {
     "name": "stdout",
     "output_type": "stream",
     "text": [
      "Please enter Urdu marks54\n",
      "Please enter English marks65\n",
      "Please enter Mathematics marks13\n",
      "Please enter Physics marks14\n",
      "Please enter Chemistry marks65\n",
      "sorry you fail\n"
     ]
    }
   ],
   "source": [
    "## Question no.1\n",
    "Urdu = int(input(\"Please enter Urdu marks\"))\n",
    "Eng = int(input(\"Please enter English marks\"))\n",
    "Math = int(input(\"Please enter Mathematics marks\"))\n",
    "Physics = int(input (\"Please enter Physics marks\"))\n",
    "Chem = int(input(\"Please enter Chemistry marks\"))\n",
    "total = Urdu + Eng + Math + Chem + Physics\n",
    "percentage = total*100/500\n",
    "if (percentage >= 80):\n",
    "    print(\"Your grade is A+\")\n",
    "elif (percentage >=70 and per<80):\n",
    "    print(\"Your grade is A\")\n",
    "elif (percentage >=50 and per <70):\n",
    "    print(\"Your grade is only pass\")\n",
    "else:\n",
    "    print(\"sorry you fail\")"
   ]
  },
  {
   "cell_type": "code",
   "execution_count": 3,
   "metadata": {},
   "outputs": [
    {
     "name": "stdout",
     "output_type": "stream",
     "text": [
      "Please enter any number to find out its even or odd?5\n",
      "Your given number is odd\n"
     ]
    }
   ],
   "source": [
    "## Question no.2\n",
    "a = int(input(\"Please enter any number to find out its even or odd?\"))\n",
    "if a%2 == 0:\n",
    "    print(\"Your given number is even\")\n",
    "\n",
    "else:\n",
    "    print(\"Your given number is odd\")\n"
   ]
  },
  {
   "cell_type": "code",
   "execution_count": 4,
   "metadata": {},
   "outputs": [
    {
     "name": "stdout",
     "output_type": "stream",
     "text": [
      "3\n"
     ]
    }
   ],
   "source": [
    "## Question no.3\n",
    "StringList = [\"find\",\"length\",\"!\"]\n",
    "StringListLength = len(StringList)\n",
    "print(StringListLength)"
   ]
  },
  {
   "cell_type": "code",
   "execution_count": 5,
   "metadata": {},
   "outputs": [
    {
     "name": "stdout",
     "output_type": "stream",
     "text": [
      "1326\n"
     ]
    }
   ],
   "source": [
    "## Question no.4\n",
    "arr = [4,65,234,456,567]\n",
    "add = 0\n",
    "for i in arr:\n",
    "    add = i+add\n",
    "    \n",
    "print(add)\n",
    "    \n"
   ]
  },
  {
   "cell_type": "code",
   "execution_count": 6,
   "metadata": {},
   "outputs": [
    {
     "name": "stdout",
     "output_type": "stream",
     "text": [
      "567\n"
     ]
    }
   ],
   "source": [
    "## Question no.5\n",
    "maximum = max(arr)\n",
    "print(maximum)"
   ]
  },
  {
   "cell_type": "code",
   "execution_count": 8,
   "metadata": {},
   "outputs": [
    {
     "name": "stdout",
     "output_type": "stream",
     "text": [
      "1\n",
      "1\n",
      "2\n",
      "3\n"
     ]
    }
   ],
   "source": [
    "## Question no.6\n",
    "a = [1, 1, 2, 3, 5, 8, 13, 21, 34, 55, 89]\n",
    "for i in a:\n",
    "    if i<5:\n",
    "        print(i)"
   ]
  },
  {
   "cell_type": "code",
   "execution_count": null,
   "metadata": {
    "collapsed": true
   },
   "outputs": [],
   "source": []
  }
 ],
 "metadata": {
  "kernelspec": {
   "display_name": "Python 3",
   "language": "python",
   "name": "python3"
  },
  "language_info": {
   "codemirror_mode": {
    "name": "ipython",
    "version": 3
   },
   "file_extension": ".py",
   "mimetype": "text/x-python",
   "name": "python",
   "nbconvert_exporter": "python",
   "pygments_lexer": "ipython3",
   "version": "3.6.3"
  }
 },
 "nbformat": 4,
 "nbformat_minor": 2
}
