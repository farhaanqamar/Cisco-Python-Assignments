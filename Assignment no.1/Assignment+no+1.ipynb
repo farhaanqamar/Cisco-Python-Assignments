{
 "cells": [
  {
   "cell_type": "code",
   "execution_count": 4,
   "metadata": {
    "scrolled": true
   },
   "outputs": [
    {
     "name": "stdout",
     "output_type": "stream",
     "text": [
      "\t\t\tTwinkle, twinkle, little star,\n",
      "\t\t\t\tHow I wonder what you are!\n",
      "\t\t\t\t\tUp above the world so high,\n",
      "\t\t\t\t\tLike a diamond in the sky.\n",
      "\t\t\tTwinkle, twinkle, little star,\n",
      "\t\t\t\tHow I wonder what you are\n"
     ]
    }
   ],
   "source": [
    "## Question no.1\n",
    "print(\"\\t\\t\\tTwinkle, twinkle, little star,\\n\\t\\t\\t\\t\" \"How I wonder what you are!\\n\\t\\t\\t\\t\\tUp above the world so high,\\n\\t\\t\\t\\t\\tLike a diamond in the sky.\\n\\t\\t\\tTwinkle, twinkle, little star,\\n\\t\\t\\t\\tHow I wonder what you are\")"
   ]
  },
  {
   "cell_type": "code",
   "execution_count": 5,
   "metadata": {
    "scrolled": false
   },
   "outputs": [
    {
     "name": "stdout",
     "output_type": "stream",
     "text": [
      "3.6.3 |Anaconda, Inc.| (default, Oct 15 2017, 03:27:45) [MSC v.1900 64 bit (AMD64)]\n"
     ]
    }
   ],
   "source": [
    "## Question no.2\n",
    "import sys\n",
    "print(sys.version)"
   ]
  },
  {
   "cell_type": "code",
   "execution_count": 6,
   "metadata": {
    "scrolled": false
   },
   "outputs": [
    {
     "name": "stdout",
     "output_type": "stream",
     "text": [
      "2019-11-22 21:16:11.035952\n",
      "22/11/19 21:16:11\n"
     ]
    }
   ],
   "source": [
    "## Question no.3\n",
    "from datetime import datetime\n",
    "\n",
    "today = datetime.now()\n",
    "print(today)\n",
    "\n",
    "another_format = today.strftime(\"%d/%m/%y %H:%M:%S\")\n",
    "print(another_format)"
   ]
  },
  {
   "cell_type": "code",
   "execution_count": null,
   "metadata": {
    "scrolled": true
   },
   "outputs": [],
   "source": [
    "## Question no.4\n",
    "pie = 3.14\n",
    "radius = float( input(\"please enter radius of circle : \") )\n",
    "area = pie * (radius**2)\n",
    "print(\"Area of circle is = \", area)\n"
   ]
  },
  {
   "cell_type": "code",
   "execution_count": null,
   "metadata": {
    "collapsed": true
   },
   "outputs": [],
   "source": [
    "## Question no.5\n",
    "first_name = input()\n",
    "last_name = input()\n",
    "first_length = len(first_name)\n",
    "last_length = len(last_name)\n",
    "first_reverse = first_name[first_length::-1]\n",
    "last_reverse = last_name[last_length::-1]\n",
    "print(first_reverse)\n",
    "print(last_reverse)"
   ]
  },
  {
   "cell_type": "code",
   "execution_count": null,
   "metadata": {
    "collapsed": true
   },
   "outputs": [],
   "source": [
    "## Question no.6\n",
    "print(\"Enter 1st number\")\n",
    "a = input()\n",
    "print(\"Enter 2nd number\")\n",
    "b = input()\n",
    "a = int(a)\n",
    "b = int(b)\n",
    "print(\"Addition of 1st and 2nd no. is\")\n",
    "print(a+b)"
   ]
  },
  {
   "cell_type": "code",
   "execution_count": null,
   "metadata": {
    "collapsed": true
   },
   "outputs": [],
   "source": []
  }
 ],
 "metadata": {
  "kernelspec": {
   "display_name": "Python 3",
   "language": "python",
   "name": "python3"
  },
  "language_info": {
   "codemirror_mode": {
    "name": "ipython",
    "version": 3
   },
   "file_extension": ".py",
   "mimetype": "text/x-python",
   "name": "python",
   "nbconvert_exporter": "python",
   "pygments_lexer": "ipython3",
   "version": "3.6.3"
  }
 },
 "nbformat": 4,
 "nbformat_minor": 2
}
