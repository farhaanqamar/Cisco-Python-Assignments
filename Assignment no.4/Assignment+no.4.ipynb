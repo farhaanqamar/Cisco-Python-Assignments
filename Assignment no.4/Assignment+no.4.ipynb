{
 "cells": [
  {
   "cell_type": "code",
   "execution_count": 2,
   "metadata": {},
   "outputs": [
    {
     "name": "stdout",
     "output_type": "stream",
     "text": [
      "Please enter your first number  12\n",
      "Please enter your second number  45\n",
      "Please enter your operator for calculations e.g for power write ^ , for Addition write + , for substraction write - , for multiplication write * , for division write /*\n",
      "540\n"
     ]
    }
   ],
   "source": [
    "## Question no.1\n",
    "num1 = int(input(\"Please enter your first number  \"))\n",
    "num2 = int( input(\"Please enter your second number  \"))\n",
    "operator = input(\"Please enter your operator for calculations e.g for power write ^ , for Addition write + , for substraction write - , for multiplication write * , for division write /\")\n",
    "\n",
    "if operator == \"*\":\n",
    "    print(num1*num2)\n",
    "    \n",
    "elif operator == '+':\n",
    "    pritn(num1+num2)\n",
    "\n",
    "elif operator == '-':\n",
    "    print(num1-num2)\n",
    "    \n",
    "elif operator == '/':\n",
    "    print(num1/num2)\n",
    "    \n",
    "elif operator == 'power':\n",
    "    print(num1**num2)"
   ]
  },
  {
   "cell_type": "code",
   "execution_count": 3,
   "metadata": {},
   "outputs": [
    {
     "name": "stdout",
     "output_type": "stream",
     "text": [
      "Numeric value is found = 45 At Index=2\n",
      "Numeric value is found = 75 At Index=4\n"
     ]
    }
   ],
   "source": [
    "## Question no.2\n",
    "arr = [\"far\",\"sofar\",45,\"alphabat\",75,\"numbers\"]\n",
    "for numeric in arr:\n",
    "    if type(numeric) == int or type(numeric) == float:\n",
    "        print(f\"Numeric value is found = {numeric} At Index={arr.index(numeric)}\")"
   ]
  },
  {
   "cell_type": "code",
   "execution_count": 4,
   "metadata": {},
   "outputs": [
    {
     "name": "stdout",
     "output_type": "stream",
     "text": [
      "{'Name': 'Farhan', 'University': 'University of Karachi'}\n",
      "{'Name': 'Farhan', 'University': 'University of Karachi', 'Father_Name': 'Qamar'}\n"
     ]
    }
   ],
   "source": [
    "## Question no.3\n",
    "AddToDic = {\"Name\":\"Farhan\", \"University\":\"University of Karachi\"}\n",
    "print(AddToDic)\n",
    "\n",
    "AddToDic.update({\"Father_Name\":\"Qamar\"})\n",
    "print(AddToDic)"
   ]
  },
  {
   "cell_type": "code",
   "execution_count": 6,
   "metadata": {},
   "outputs": [
    {
     "name": "stdout",
     "output_type": "stream",
     "text": [
      "sum ::  155\n"
     ]
    }
   ],
   "source": [
    "## Question no.4\n",
    "def SumAllNumeric(dic):\n",
    "        sum = 0\n",
    "        for i in dic.values():\n",
    "            sum = sum + i\n",
    "        return sum\n",
    "\n",
    "NumDic = {0:89 , 1:54, 2:12 }\n",
    "\n",
    "print(\"sum :: \",SumAllNumeric(NumDic))\n"
   ]
  },
  {
   "cell_type": "code",
   "execution_count": 9,
   "metadata": {},
   "outputs": [
    {
     "name": "stdout",
     "output_type": "stream",
     "text": [
      "duplicate value is found  memory\n",
      "duplicate value is found  far\n",
      "duplicate value is found  45\n",
      "[45, 'far', 'memory', 'animal']\n"
     ]
    }
   ],
   "source": [
    "## Question no.5\n",
    "FirstList = [45,\"far\",\"memory\", \"animal\",\"memory\",\"far\",45]\n",
    "def duplicates(list):\n",
    "    FirstListDup = []\n",
    "    for val in list:\n",
    "        if val not in FirstListDup:\n",
    "            FirstListDup.append(val)\n",
    "        elif val in FirstListDup:\n",
    "            print(\"duplicate value is found \",val)\n",
    "    return FirstListDup\n",
    "\n",
    "print(duplicates(FirstList))\n",
    "\n"
   ]
  },
  {
   "cell_type": "code",
   "execution_count": 14,
   "metadata": {},
   "outputs": [],
   "source": [
    "## Question no.6\n",
    "\n",
    "dic = {\n",
    "    1: 85,\n",
    "    2: 75,\n",
    "    3: 34,\n",
    "    4: 85,\n",
    "    5: 34,\n",
    "    6: 99}\n",
    "def keysPrsentOrNot(k):\n",
    "    if k in dic:\n",
    "        print('Key is already present')\n",
    "    else: \n",
    "        print('These Keys is not present')\n",
    "\n",
    "            "
   ]
  },
  {
   "cell_type": "code",
   "execution_count": null,
   "metadata": {
    "collapsed": true
   },
   "outputs": [],
   "source": []
  }
 ],
 "metadata": {
  "kernelspec": {
   "display_name": "Python 3",
   "language": "python",
   "name": "python3"
  },
  "language_info": {
   "codemirror_mode": {
    "name": "ipython",
    "version": 3
   },
   "file_extension": ".py",
   "mimetype": "text/x-python",
   "name": "python",
   "nbconvert_exporter": "python",
   "pygments_lexer": "ipython3",
   "version": "3.6.3"
  }
 },
 "nbformat": 4,
 "nbformat_minor": 2
}
