{
 "cells": [
  {
   "cell_type": "code",
   "execution_count": 4,
   "metadata": {
    "scrolled": false
   },
   "outputs": [
    {
     "name": "stdout",
     "output_type": "stream",
     "text": [
      "{'first_name': 'Muhammad Farhan', 'last_name': 'Qamar', 'age': 26, 'city': 'Karachi'}\n",
      "{'first_name': 'Muhammad Farhan', 'last_name': 'Qamar', 'age': 26, 'city': 'Karachi', 'qualification': 'F.sc'}\n",
      "{'first_name': 'Muhammad Farhan', 'last_name': 'Qamar', 'age': 26, 'city': 'Karachi', 'qualification': 'BSCS'}\n",
      "{'first_name': 'Muhammad Farhan', 'last_name': 'Qamar', 'age': 26, 'city': 'Karachi'}\n"
     ]
    }
   ],
   "source": [
    "# QUESTION NO: 01\n",
    "Personal_info= {'first_name':'Muhammad Farhan',\n",
    "              'last_name' : 'Qamar',\n",
    "              'age': 26,\n",
    "              'city': 'Karachi'}\n",
    "\n",
    "print(Personal_info)\n",
    "Personal_info['qualification']='F.sc'\n",
    "print(Personal_info)\n",
    "Personal_info.update({'qualification': 'BSCS'})\n",
    "print(Personal_info)\n",
    "del Personal_info['qualification']\n",
    "print(Personal_info)"
   ]
  },
  {
   "cell_type": "code",
   "execution_count": 10,
   "metadata": {},
   "outputs": [
    {
     "name": "stdout",
     "output_type": "stream",
     "text": [
      "{'country': 'Japan', 'population': 1393200, 'fact': 'This is one of the worlds most densely populated cities.'}\n",
      "{'country': 'Pakistan', 'population': 1095064, 'fact': 'Carefully planned, kept clean and with a very low crime rate.'}\n",
      "{'country': 'America', 'population': 2705994, 'fact': 'Chicago is the third largest city in the U.S. and is home to an estimated 2.7M residents.'}\n"
     ]
    }
   ],
   "source": [
    "# QUESTION NO: 02\n",
    "cities = {\n",
    "    \"Tokyo\" : {\"country\":\"Japan\" ,\n",
    "                              \"population\" : 1393200,\n",
    "                              \"fact\"  : \"This is one of the worlds most densely populated cities.\"},\n",
    "    \n",
    "    \"Islamabad\": {\"country\"  : \"Pakistan\" ,\n",
    "                              \"population\" : 1095064,\n",
    "                              \"fact\"            : \"Carefully planned, kept clean and with a very low crime rate.\"},\n",
    "    \n",
    "    \"Chicago\": {\"country\"  : \"America\" ,\n",
    "                              \"population\" : 2705994,\n",
    "                              \"fact\"            : \"Chicago is the third largest city in the U.S. and is home to an estimated 2.7M residents.\"}\n",
    "}\n",
    "\n",
    "print(cities[\"Tokyo\"])\n",
    "print(cities[\"Islamabad\"])\n",
    "print(cities[\"Chicago\"])"
   ]
  },
  {
   "cell_type": "code",
   "execution_count": 12,
   "metadata": {},
   "outputs": [
    {
     "name": "stdout",
     "output_type": "stream",
     "text": [
      "What is your Age: 66\n",
      "Ticket price is $15\n",
      "Press y for continue & Press any keys to exit: j\n",
      "Close Now\n"
     ]
    }
   ],
   "source": [
    "# QUESTION NO: 03\n",
    "next_one ='y'\n",
    "while next_one == 'y':\n",
    "    age = int(input(\"What is your Age: \"))\n",
    "    if age < 3:\n",
    "        print(\"Ticket is Free\")\n",
    "    elif age >= 3 and age <= 12:\n",
    "        print(\"Ticket price is $10\")\n",
    "    elif age > 12:\n",
    "        print(\"Ticket price is $15\")\n",
    "    next_one = input(\"Press y for continue & Press any keys to exit: \")\n",
    "    if next_one != 'y':\n",
    "        print(\"Close Now\")"
   ]
  },
  {
   "cell_type": "code",
   "execution_count": 15,
   "metadata": {
    "scrolled": true
   },
   "outputs": [
    {
     "name": "stdout",
     "output_type": "stream",
     "text": [
      "One of my favorite books is 'QURAAN'.\n",
      "One of my favorite books is 'Rich Dad Poor Dad '.\n",
      "One of my favorite books is 'Tick Tick Dollar '.\n"
     ]
    }
   ],
   "source": [
    "# QUESTION NO: 04\n",
    "def fav_book(title):\n",
    "    print(f\"One of my favorite books is '{title}'.\")\n",
    "    \n",
    "fav_book(\"QURAAN\")\n",
    "fav_book(\"Rich Dad Poor Dad \")\n",
    "fav_book(\"Tick Tick Dollar \")"
   ]
  },
  {
   "cell_type": "code",
   "execution_count": null,
   "metadata": {},
   "outputs": [],
   "source": []
  },
  {
   "cell_type": "code",
   "execution_count": null,
   "metadata": {
    "collapsed": true
   },
   "outputs": [],
   "source": [
    "#QUESTION NO: 05\n",
    "import random as rd\n",
    "guess_num= rd.randrange(1,30)\n",
    "turn=0\n",
    "for i in range(0,3):\n",
    "     randam_num=int(input(f\"This is Guess Number Game,please enter your Guess Number\"))\n",
    "    if guess_num==randam_num:\n",
    "        print('Your Guess Number is Correct')\n",
    "    elif guess_num>randam_num:\n",
    "        print('Your Guess Number is greater than yours')\n",
    "        if guess_num!=randam_num and i==2:\n",
    "            print('Write ans is '+str(guess_num))\n",
    "    elif guess_num<randam_num:\n",
    "        print('Your Guess Number is smaller than yours')\n",
    "        if guess_num!=randam_num and i==2:\n",
    "            print('Write ans is '+str(guess_num))\n",
    "            print(guess_num)"
   ]
  },
  {
   "cell_type": "code",
   "execution_count": null,
   "metadata": {
    "collapsed": true
   },
   "outputs": [],
   "source": []
  },
  {
   "cell_type": "code",
   "execution_count": null,
   "metadata": {
    "collapsed": true
   },
   "outputs": [],
   "source": []
  }
 ],
 "metadata": {
  "kernelspec": {
   "display_name": "Python 3",
   "language": "python",
   "name": "python3"
  },
  "language_info": {
   "codemirror_mode": {
    "name": "ipython",
    "version": 3
   },
   "file_extension": ".py",
   "mimetype": "text/x-python",
   "name": "python",
   "nbconvert_exporter": "python",
   "pygments_lexer": "ipython3",
   "version": "3.6.3"
  }
 },
 "nbformat": 4,
 "nbformat_minor": 2
}
