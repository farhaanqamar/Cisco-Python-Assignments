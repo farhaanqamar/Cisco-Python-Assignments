{
 "cells": [
  {
   "cell_type": "code",
   "execution_count": 7,
   "metadata": {
    "scrolled": false
   },
   "outputs": [
    {
     "name": "stdout",
     "output_type": "stream",
     "text": [
      "Plaese enter number to find factorial\n",
      " 10\n",
      "Factorial 10 = 3628800\n"
     ]
    }
   ],
   "source": [
    "# QUESTION NO: 01\n",
    "def factorial(inp):\n",
    "    ans = inp\n",
    "    for i in range(1,inp):\n",
    "        ans = ans*i\n",
    "    print('Factorial '+str(inp)+' = '+str(ans))\n",
    "inp = int(input('Plaese enter number to find factorial\\n '))\n",
    "factorial(inp)"
   ]
  },
  {
   "cell_type": "code",
   "execution_count": null,
   "metadata": {
    "collapsed": true
   },
   "outputs": [],
   "source": [
    "# QUESTION NO: 02\n",
    "String=str(input(\"Enter String to check upper and lower case: \"))\n",
    "def String_test(String):\n",
    "  Uppercase=0\n",
    "  Lowercase=0\n",
    "  for i in String:\n",
    "    if (i.isupper()):\n",
    "      Uppercase+=1\n",
    "    elif (i.islower)():\n",
    "      Lowercase+=1\n",
    "  print(\"Your String is \", String)\n",
    "  print(\"UPPERCASE Letter is \", Uppercase)\n",
    "  print(\"Lowercase Letter is\", Lowercase)\n",
    "String_test(String)"
   ]
  },
  {
   "cell_type": "code",
   "execution_count": null,
   "metadata": {
    "collapsed": true
   },
   "outputs": [],
   "source": [
    "# QUESTION NO: 03\n",
    "def even_printer(numbers):\n",
    "    for number in numbers:\n",
    "        if number % 2 == 0:\n",
    "            print(number)\n",
    "            \n",
    "# Calling\n",
    "even_printer([1,2,3,4,5,6,7,8,9,10,11,12,13,14,15,16])"
   ]
  },
  {
   "cell_type": "code",
   "execution_count": null,
   "metadata": {
    "collapsed": true
   },
   "outputs": [],
   "source": [
    "#QUESTION NO:04\n",
    "def check():\n",
    "        string = input('Enter to check ')\n",
    "        new_str= reversed(string)\n",
    "        if list(string)==list(new_str):\n",
    "            print('Yes its palindrome')\n",
    "        else:\n",
    "            print('There is no palindrome')\n",
    "check()"
   ]
  },
  {
   "cell_type": "code",
   "execution_count": null,
   "metadata": {
    "collapsed": true
   },
   "outputs": [],
   "source": [
    "# QUESTION NO: 05\n",
    "def check_prime(num):\n",
    "    flag = True\n",
    "    if num > 1:  \n",
    "        for i in range(2,num):  \n",
    "            if (num % i) == 0:  \n",
    "                print(num,\"is not a prime number\")  \n",
    "                flag = False\n",
    "                break  \n",
    "        if flag:\n",
    "            print(num, \"is a prime number !\")\n",
    "\n",
    "    else:\n",
    "        print(num, \"is not a prime number\")\n"
   ]
  },
  {
   "cell_type": "code",
   "execution_count": null,
   "metadata": {
    "collapsed": true
   },
   "outputs": [],
   "source": [
    "#QUESTION NO: 06\n",
    "def shopping(*items):\n",
    "    print(\"Items:\\n\")\n",
    "    for item in items:\n",
    "        print(f\"\\t{item}\")\n",
    "        \n",
    "\n",
    "shopping(\"Salt\",\"Sugar\",\"Oil\",\"Biscuit\")  "
   ]
  },
  {
   "cell_type": "code",
   "execution_count": null,
   "metadata": {
    "collapsed": true
   },
   "outputs": [],
   "source": []
  }
 ],
 "metadata": {
  "kernelspec": {
   "display_name": "Python 3",
   "language": "python",
   "name": "python3"
  },
  "language_info": {
   "codemirror_mode": {
    "name": "ipython",
    "version": 3
   },
   "file_extension": ".py",
   "mimetype": "text/x-python",
   "name": "python",
   "nbconvert_exporter": "python",
   "pygments_lexer": "ipython3",
   "version": "3.6.3"
  }
 },
 "nbformat": 4,
 "nbformat_minor": 2
}
